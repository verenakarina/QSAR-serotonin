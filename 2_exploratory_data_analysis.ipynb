{
 "cells": [
  {
   "cell_type": "markdown",
   "id": "46ee8ce6",
   "metadata": {},
   "source": [
    "# Prepare Data"
   ]
  },
  {
   "cell_type": "code",
   "execution_count": 58,
   "id": "ae6bc95c",
   "metadata": {
    "scrolled": true
   },
   "outputs": [
    {
     "name": "stdout",
     "output_type": "stream",
     "text": [
      "Requirement already satisfied: rdkit in /Users/verenakarina/opt/anaconda3/lib/python3.9/site-packages (2022.9.3)\r\n",
      "Requirement already satisfied: Pillow in /Users/verenakarina/opt/anaconda3/lib/python3.9/site-packages (from rdkit) (9.0.1)\r\n",
      "Requirement already satisfied: numpy in /Users/verenakarina/opt/anaconda3/lib/python3.9/site-packages (from rdkit) (1.21.5)\r\n"
     ]
    }
   ],
   "source": [
    "! pip install rdkit"
   ]
  },
  {
   "cell_type": "code",
   "execution_count": 59,
   "id": "9fea64e2",
   "metadata": {},
   "outputs": [],
   "source": [
    "import pandas as pd\n",
    "import matplotlib.pyplot as plt\n",
    "import numpy as np\n",
    "import os"
   ]
  },
  {
   "cell_type": "code",
   "execution_count": 60,
   "id": "3307eaca",
   "metadata": {},
   "outputs": [
    {
     "data": {
      "text/html": [
       "<div>\n",
       "<style scoped>\n",
       "    .dataframe tbody tr th:only-of-type {\n",
       "        vertical-align: middle;\n",
       "    }\n",
       "\n",
       "    .dataframe tbody tr th {\n",
       "        vertical-align: top;\n",
       "    }\n",
       "\n",
       "    .dataframe thead th {\n",
       "        text-align: right;\n",
       "    }\n",
       "</style>\n",
       "<table border=\"1\" class=\"dataframe\">\n",
       "  <thead>\n",
       "    <tr style=\"text-align: right;\">\n",
       "      <th></th>\n",
       "      <th>molecule_chembl_id</th>\n",
       "      <th>canonical_smiles</th>\n",
       "      <th>standard_value</th>\n",
       "      <th>compound_classification</th>\n",
       "    </tr>\n",
       "  </thead>\n",
       "  <tbody>\n",
       "    <tr>\n",
       "      <th>0</th>\n",
       "      <td>CHEMBL322923</td>\n",
       "      <td>COC(=O)C1=C(c2ccc(Cl)c(Cl)c2)CC2CCC1C2</td>\n",
       "      <td>5160.00</td>\n",
       "      <td>intermediate</td>\n",
       "    </tr>\n",
       "    <tr>\n",
       "      <th>1</th>\n",
       "      <td>CHEMBL435341</td>\n",
       "      <td>C/C=C\\c1ccc([C@H]2CC3CCC([C@H]2C(=O)OC)N3C)cc1</td>\n",
       "      <td>1.15</td>\n",
       "      <td>active</td>\n",
       "    </tr>\n",
       "    <tr>\n",
       "      <th>2</th>\n",
       "      <td>CHEMBL311347</td>\n",
       "      <td>COC(=O)[C@@H]1C2CC[C@H](C[C@@H]1c1ccc(I)cc1)N2C</td>\n",
       "      <td>4.20</td>\n",
       "      <td>active</td>\n",
       "    </tr>\n",
       "    <tr>\n",
       "      <th>3</th>\n",
       "      <td>CHEMBL100941</td>\n",
       "      <td>COC(=O)C1C2CCC(C2)CC1c1ccc(Cl)c(Cl)c1</td>\n",
       "      <td>33.40</td>\n",
       "      <td>active</td>\n",
       "    </tr>\n",
       "    <tr>\n",
       "      <th>4</th>\n",
       "      <td>CHEMBL87031</td>\n",
       "      <td>COC(=O)C1C(c2ccc(Cl)c(Cl)c2)CC2CCC1N2C</td>\n",
       "      <td>27.60</td>\n",
       "      <td>active</td>\n",
       "    </tr>\n",
       "  </tbody>\n",
       "</table>\n",
       "</div>"
      ],
      "text/plain": [
       "  molecule_chembl_id                                 canonical_smiles  \\\n",
       "0       CHEMBL322923           COC(=O)C1=C(c2ccc(Cl)c(Cl)c2)CC2CCC1C2   \n",
       "1       CHEMBL435341   C/C=C\\c1ccc([C@H]2CC3CCC([C@H]2C(=O)OC)N3C)cc1   \n",
       "2       CHEMBL311347  COC(=O)[C@@H]1C2CC[C@H](C[C@@H]1c1ccc(I)cc1)N2C   \n",
       "3       CHEMBL100941            COC(=O)C1C2CCC(C2)CC1c1ccc(Cl)c(Cl)c1   \n",
       "4        CHEMBL87031           COC(=O)C1C(c2ccc(Cl)c(Cl)c2)CC2CCC1N2C   \n",
       "\n",
       "   standard_value compound_classification  \n",
       "0         5160.00            intermediate  \n",
       "1            1.15                  active  \n",
       "2            4.20                  active  \n",
       "3           33.40                  active  \n",
       "4           27.60                  active  "
      ]
     },
     "execution_count": 60,
     "metadata": {},
     "output_type": "execute_result"
    }
   ],
   "source": [
    "df = pd.read_csv('csv/bioactivity_preprocessed_data.csv')\n",
    "df.head(5)"
   ]
  },
  {
   "cell_type": "markdown",
   "id": "f18a9336",
   "metadata": {},
   "source": [
    "# Calculate Lipinski Descriptors"
   ]
  },
  {
   "cell_type": "code",
   "execution_count": 61,
   "id": "5e81b1c9",
   "metadata": {},
   "outputs": [],
   "source": [
    "import numpy as np\n",
    "from rdkit import Chem\n",
    "from rdkit.Chem import Descriptors, Lipinski"
   ]
  },
  {
   "cell_type": "code",
   "execution_count": 62,
   "id": "746cbe94",
   "metadata": {},
   "outputs": [],
   "source": [
    "# Inspired by: https://codeocean.com/explore/capsules?query=tag:data-curation\n",
    "\n",
    "def lipinski(smiles, verbose=False):\n",
    "    \n",
    "    moldata = [Chem.MolFromSmiles(elem) for elem in smiles]\n",
    "       \n",
    "    baseData= np.arange(1,1)\n",
    "    i=0  \n",
    "    for mol in moldata:        \n",
    "       \n",
    "        desc_MolWt = Descriptors.MolWt(mol)\n",
    "        desc_MolLogP = Descriptors.MolLogP(mol)\n",
    "        desc_NumHDonors = Lipinski.NumHDonors(mol)\n",
    "        desc_NumHAcceptors = Lipinski.NumHAcceptors(mol)\n",
    "           \n",
    "        row = np.array([desc_MolWt,\n",
    "                        desc_MolLogP,\n",
    "                        desc_NumHDonors,\n",
    "                        desc_NumHAcceptors])   \n",
    "    \n",
    "        if(i==0):\n",
    "            baseData=row\n",
    "        else:\n",
    "            baseData=np.vstack([baseData, row])\n",
    "        i=i+1      \n",
    "    \n",
    "    columnNames=[\"MW\",\"LogP\",\"NumHDonors\",\"NumHAcceptors\"]   \n",
    "    descriptors = pd.DataFrame(data=baseData,columns=columnNames)\n",
    "    \n",
    "    return descriptors"
   ]
  },
  {
   "cell_type": "code",
   "execution_count": 63,
   "id": "22b45ffc",
   "metadata": {},
   "outputs": [
    {
     "data": {
      "text/html": [
       "<div>\n",
       "<style scoped>\n",
       "    .dataframe tbody tr th:only-of-type {\n",
       "        vertical-align: middle;\n",
       "    }\n",
       "\n",
       "    .dataframe tbody tr th {\n",
       "        vertical-align: top;\n",
       "    }\n",
       "\n",
       "    .dataframe thead th {\n",
       "        text-align: right;\n",
       "    }\n",
       "</style>\n",
       "<table border=\"1\" class=\"dataframe\">\n",
       "  <thead>\n",
       "    <tr style=\"text-align: right;\">\n",
       "      <th></th>\n",
       "      <th>MW</th>\n",
       "      <th>LogP</th>\n",
       "      <th>NumHDonors</th>\n",
       "      <th>NumHAcceptors</th>\n",
       "    </tr>\n",
       "  </thead>\n",
       "  <tbody>\n",
       "    <tr>\n",
       "      <th>0</th>\n",
       "      <td>311.208</td>\n",
       "      <td>4.74000</td>\n",
       "      <td>0.0</td>\n",
       "      <td>2.0</td>\n",
       "    </tr>\n",
       "    <tr>\n",
       "      <th>1</th>\n",
       "      <td>299.414</td>\n",
       "      <td>3.45900</td>\n",
       "      <td>0.0</td>\n",
       "      <td>3.0</td>\n",
       "    </tr>\n",
       "    <tr>\n",
       "      <th>2</th>\n",
       "      <td>385.245</td>\n",
       "      <td>3.03050</td>\n",
       "      <td>0.0</td>\n",
       "      <td>3.0</td>\n",
       "    </tr>\n",
       "    <tr>\n",
       "      <th>3</th>\n",
       "      <td>313.224</td>\n",
       "      <td>4.68620</td>\n",
       "      <td>0.0</td>\n",
       "      <td>2.0</td>\n",
       "    </tr>\n",
       "    <tr>\n",
       "      <th>4</th>\n",
       "      <td>328.239</td>\n",
       "      <td>3.73270</td>\n",
       "      <td>0.0</td>\n",
       "      <td>3.0</td>\n",
       "    </tr>\n",
       "    <tr>\n",
       "      <th>...</th>\n",
       "      <td>...</td>\n",
       "      <td>...</td>\n",
       "      <td>...</td>\n",
       "      <td>...</td>\n",
       "    </tr>\n",
       "    <tr>\n",
       "      <th>3495</th>\n",
       "      <td>237.730</td>\n",
       "      <td>3.00180</td>\n",
       "      <td>1.0</td>\n",
       "      <td>2.0</td>\n",
       "    </tr>\n",
       "    <tr>\n",
       "      <th>3496</th>\n",
       "      <td>237.730</td>\n",
       "      <td>3.00180</td>\n",
       "      <td>1.0</td>\n",
       "      <td>2.0</td>\n",
       "    </tr>\n",
       "    <tr>\n",
       "      <th>3497</th>\n",
       "      <td>237.730</td>\n",
       "      <td>3.00180</td>\n",
       "      <td>1.0</td>\n",
       "      <td>2.0</td>\n",
       "    </tr>\n",
       "    <tr>\n",
       "      <th>3498</th>\n",
       "      <td>514.483</td>\n",
       "      <td>4.66972</td>\n",
       "      <td>0.0</td>\n",
       "      <td>7.0</td>\n",
       "    </tr>\n",
       "    <tr>\n",
       "      <th>3499</th>\n",
       "      <td>475.510</td>\n",
       "      <td>7.35780</td>\n",
       "      <td>2.0</td>\n",
       "      <td>2.0</td>\n",
       "    </tr>\n",
       "  </tbody>\n",
       "</table>\n",
       "<p>3500 rows × 4 columns</p>\n",
       "</div>"
      ],
      "text/plain": [
       "           MW     LogP  NumHDonors  NumHAcceptors\n",
       "0     311.208  4.74000         0.0            2.0\n",
       "1     299.414  3.45900         0.0            3.0\n",
       "2     385.245  3.03050         0.0            3.0\n",
       "3     313.224  4.68620         0.0            2.0\n",
       "4     328.239  3.73270         0.0            3.0\n",
       "...       ...      ...         ...            ...\n",
       "3495  237.730  3.00180         1.0            2.0\n",
       "3496  237.730  3.00180         1.0            2.0\n",
       "3497  237.730  3.00180         1.0            2.0\n",
       "3498  514.483  4.66972         0.0            7.0\n",
       "3499  475.510  7.35780         2.0            2.0\n",
       "\n",
       "[3500 rows x 4 columns]"
      ]
     },
     "execution_count": 63,
     "metadata": {},
     "output_type": "execute_result"
    }
   ],
   "source": [
    "df_lipinski = lipinski(df.canonical_smiles)\n",
    "df_lipinski"
   ]
  },
  {
   "cell_type": "code",
   "execution_count": 64,
   "id": "867c71b3",
   "metadata": {
    "scrolled": true
   },
   "outputs": [
    {
     "data": {
      "text/html": [
       "<div>\n",
       "<style scoped>\n",
       "    .dataframe tbody tr th:only-of-type {\n",
       "        vertical-align: middle;\n",
       "    }\n",
       "\n",
       "    .dataframe tbody tr th {\n",
       "        vertical-align: top;\n",
       "    }\n",
       "\n",
       "    .dataframe thead th {\n",
       "        text-align: right;\n",
       "    }\n",
       "</style>\n",
       "<table border=\"1\" class=\"dataframe\">\n",
       "  <thead>\n",
       "    <tr style=\"text-align: right;\">\n",
       "      <th></th>\n",
       "      <th>molecule_chembl_id</th>\n",
       "      <th>canonical_smiles</th>\n",
       "      <th>standard_value</th>\n",
       "      <th>compound_classification</th>\n",
       "      <th>MW</th>\n",
       "      <th>LogP</th>\n",
       "      <th>NumHDonors</th>\n",
       "      <th>NumHAcceptors</th>\n",
       "    </tr>\n",
       "  </thead>\n",
       "  <tbody>\n",
       "    <tr>\n",
       "      <th>0</th>\n",
       "      <td>CHEMBL322923</td>\n",
       "      <td>COC(=O)C1=C(c2ccc(Cl)c(Cl)c2)CC2CCC1C2</td>\n",
       "      <td>5160.00</td>\n",
       "      <td>intermediate</td>\n",
       "      <td>311.208</td>\n",
       "      <td>4.74000</td>\n",
       "      <td>0.0</td>\n",
       "      <td>2.0</td>\n",
       "    </tr>\n",
       "    <tr>\n",
       "      <th>1</th>\n",
       "      <td>CHEMBL435341</td>\n",
       "      <td>C/C=C\\c1ccc([C@H]2CC3CCC([C@H]2C(=O)OC)N3C)cc1</td>\n",
       "      <td>1.15</td>\n",
       "      <td>active</td>\n",
       "      <td>299.414</td>\n",
       "      <td>3.45900</td>\n",
       "      <td>0.0</td>\n",
       "      <td>3.0</td>\n",
       "    </tr>\n",
       "    <tr>\n",
       "      <th>2</th>\n",
       "      <td>CHEMBL311347</td>\n",
       "      <td>COC(=O)[C@@H]1C2CC[C@H](C[C@@H]1c1ccc(I)cc1)N2C</td>\n",
       "      <td>4.20</td>\n",
       "      <td>active</td>\n",
       "      <td>385.245</td>\n",
       "      <td>3.03050</td>\n",
       "      <td>0.0</td>\n",
       "      <td>3.0</td>\n",
       "    </tr>\n",
       "    <tr>\n",
       "      <th>3</th>\n",
       "      <td>CHEMBL100941</td>\n",
       "      <td>COC(=O)C1C2CCC(C2)CC1c1ccc(Cl)c(Cl)c1</td>\n",
       "      <td>33.40</td>\n",
       "      <td>active</td>\n",
       "      <td>313.224</td>\n",
       "      <td>4.68620</td>\n",
       "      <td>0.0</td>\n",
       "      <td>2.0</td>\n",
       "    </tr>\n",
       "    <tr>\n",
       "      <th>4</th>\n",
       "      <td>CHEMBL87031</td>\n",
       "      <td>COC(=O)C1C(c2ccc(Cl)c(Cl)c2)CC2CCC1N2C</td>\n",
       "      <td>27.60</td>\n",
       "      <td>active</td>\n",
       "      <td>328.239</td>\n",
       "      <td>3.73270</td>\n",
       "      <td>0.0</td>\n",
       "      <td>3.0</td>\n",
       "    </tr>\n",
       "    <tr>\n",
       "      <th>...</th>\n",
       "      <td>...</td>\n",
       "      <td>...</td>\n",
       "      <td>...</td>\n",
       "      <td>...</td>\n",
       "      <td>...</td>\n",
       "      <td>...</td>\n",
       "      <td>...</td>\n",
       "      <td>...</td>\n",
       "    </tr>\n",
       "    <tr>\n",
       "      <th>3495</th>\n",
       "      <td>CHEMBL4847426</td>\n",
       "      <td>Clc1ccc(OC2CC3CCC(C2)N3)cc1</td>\n",
       "      <td>43.00</td>\n",
       "      <td>active</td>\n",
       "      <td>237.730</td>\n",
       "      <td>3.00180</td>\n",
       "      <td>1.0</td>\n",
       "      <td>2.0</td>\n",
       "    </tr>\n",
       "    <tr>\n",
       "      <th>3496</th>\n",
       "      <td>CHEMBL4851558</td>\n",
       "      <td>Clc1cccc(OC2CC3CCC(C2)N3)c1</td>\n",
       "      <td>135.00</td>\n",
       "      <td>active</td>\n",
       "      <td>237.730</td>\n",
       "      <td>3.00180</td>\n",
       "      <td>1.0</td>\n",
       "      <td>2.0</td>\n",
       "    </tr>\n",
       "    <tr>\n",
       "      <th>3497</th>\n",
       "      <td>CHEMBL4873377</td>\n",
       "      <td>Clc1ccccc1OC1CC2CCC(C1)N2</td>\n",
       "      <td>881.00</td>\n",
       "      <td>active</td>\n",
       "      <td>237.730</td>\n",
       "      <td>3.00180</td>\n",
       "      <td>1.0</td>\n",
       "      <td>2.0</td>\n",
       "    </tr>\n",
       "    <tr>\n",
       "      <th>3498</th>\n",
       "      <td>CHEMBL3609637</td>\n",
       "      <td>COc1cc(-c2cn(C3CCc4c(F)cccc4N(CC(F)(F)F)C3=O)n...</td>\n",
       "      <td>13.00</td>\n",
       "      <td>active</td>\n",
       "      <td>514.483</td>\n",
       "      <td>4.66972</td>\n",
       "      <td>0.0</td>\n",
       "      <td>7.0</td>\n",
       "    </tr>\n",
       "    <tr>\n",
       "      <th>3499</th>\n",
       "      <td>CHEMBL1800685</td>\n",
       "      <td>O=C(O)c1cc(-c2ccc(C3CCNCC3)cc2)c2ccc(-c3ccc(C(...</td>\n",
       "      <td>9.47</td>\n",
       "      <td>active</td>\n",
       "      <td>475.510</td>\n",
       "      <td>7.35780</td>\n",
       "      <td>2.0</td>\n",
       "      <td>2.0</td>\n",
       "    </tr>\n",
       "  </tbody>\n",
       "</table>\n",
       "<p>3500 rows × 8 columns</p>\n",
       "</div>"
      ],
      "text/plain": [
       "     molecule_chembl_id                                   canonical_smiles  \\\n",
       "0          CHEMBL322923             COC(=O)C1=C(c2ccc(Cl)c(Cl)c2)CC2CCC1C2   \n",
       "1          CHEMBL435341     C/C=C\\c1ccc([C@H]2CC3CCC([C@H]2C(=O)OC)N3C)cc1   \n",
       "2          CHEMBL311347    COC(=O)[C@@H]1C2CC[C@H](C[C@@H]1c1ccc(I)cc1)N2C   \n",
       "3          CHEMBL100941              COC(=O)C1C2CCC(C2)CC1c1ccc(Cl)c(Cl)c1   \n",
       "4           CHEMBL87031             COC(=O)C1C(c2ccc(Cl)c(Cl)c2)CC2CCC1N2C   \n",
       "...                 ...                                                ...   \n",
       "3495      CHEMBL4847426                        Clc1ccc(OC2CC3CCC(C2)N3)cc1   \n",
       "3496      CHEMBL4851558                        Clc1cccc(OC2CC3CCC(C2)N3)c1   \n",
       "3497      CHEMBL4873377                          Clc1ccccc1OC1CC2CCC(C1)N2   \n",
       "3498      CHEMBL3609637  COc1cc(-c2cn(C3CCc4c(F)cccc4N(CC(F)(F)F)C3=O)n...   \n",
       "3499      CHEMBL1800685  O=C(O)c1cc(-c2ccc(C3CCNCC3)cc2)c2ccc(-c3ccc(C(...   \n",
       "\n",
       "      standard_value compound_classification       MW     LogP  NumHDonors  \\\n",
       "0            5160.00            intermediate  311.208  4.74000         0.0   \n",
       "1               1.15                  active  299.414  3.45900         0.0   \n",
       "2               4.20                  active  385.245  3.03050         0.0   \n",
       "3              33.40                  active  313.224  4.68620         0.0   \n",
       "4              27.60                  active  328.239  3.73270         0.0   \n",
       "...              ...                     ...      ...      ...         ...   \n",
       "3495           43.00                  active  237.730  3.00180         1.0   \n",
       "3496          135.00                  active  237.730  3.00180         1.0   \n",
       "3497          881.00                  active  237.730  3.00180         1.0   \n",
       "3498           13.00                  active  514.483  4.66972         0.0   \n",
       "3499            9.47                  active  475.510  7.35780         2.0   \n",
       "\n",
       "      NumHAcceptors  \n",
       "0               2.0  \n",
       "1               3.0  \n",
       "2               3.0  \n",
       "3               2.0  \n",
       "4               3.0  \n",
       "...             ...  \n",
       "3495            2.0  \n",
       "3496            2.0  \n",
       "3497            2.0  \n",
       "3498            7.0  \n",
       "3499            2.0  \n",
       "\n",
       "[3500 rows x 8 columns]"
      ]
     },
     "execution_count": 64,
     "metadata": {},
     "output_type": "execute_result"
    }
   ],
   "source": [
    "df_combined = pd.concat([df,df_lipinski], axis=1)\n",
    "df_combined"
   ]
  },
  {
   "cell_type": "code",
   "execution_count": 32,
   "id": "677d0ce5",
   "metadata": {},
   "outputs": [
    {
     "data": {
      "image/png": "[encoded data removed]",
      "text/plain": [
       "<Figure size 432x288 with 1 Axes>"
      ]
     },
     "metadata": {},
     "output_type": "display_data"
    }
   ],
   "source": [
    "#IC50 data values have uneven distribution\n",
    "x = []\n",
    "y = []\n",
    "i = 0\n",
    "for j in df.standard_value:\n",
    "    x.append(i)\n",
    "    y.append(j)\n",
    "    i += 1\n",
    "    \n",
    "plt.scatter(x, y)\n",
    "plt.title('\"standard_value\" Distribution')\n",
    "plt.xlabel('Index')\n",
    "plt.ylabel('Standard Value')\n",
    "plt.show()"
   ]
  },
  {
   "cell_type": "code",
   "execution_count": 33,
   "id": "d1997643",
   "metadata": {},
   "outputs": [],
   "source": [
    "#transform IC50 data values - negative logarithmic\n",
    "\n",
    "# https://github.com/chaninlab/estrogen-receptor-alpha-qsar/blob/master/02_ER_alpha_RO5.ipynb\n",
    "\n",
    "import numpy as np\n",
    "\n",
    "def pIC50(input):\n",
    "    pIC50 = []\n",
    "\n",
    "    for i in input['standard_value']:\n",
    "        molar = i*(10**-9) # Converts nM to M\n",
    "        pIC50.append(-np.log10(molar))\n",
    "\n",
    "    input['pIC50'] = pIC50\n",
    "    x = input.drop('standard_value', axis=1)\n",
    "        \n",
    "    return x"
   ]
  },
  {
   "cell_type": "code",
   "execution_count": 34,
   "id": "a14d9b28",
   "metadata": {
    "scrolled": true
   },
   "outputs": [
    {
     "data": {
      "text/plain": [
       "1.0"
      ]
     },
     "execution_count": 34,
     "metadata": {},
     "output_type": "execute_result"
    }
   ],
   "source": [
    "#we dont want the transformed values to be negative as it will make data interpretation more difficult\n",
    "#to prevent that from happening, we make sure the resulting values will not be < 1.0\n",
    "#this means, the input values should not exceed 1000000\n",
    "-np.log10((10**-9)* 100000000)"
   ]
  },
  {
   "cell_type": "code",
   "execution_count": 35,
   "id": "2aba38da",
   "metadata": {},
   "outputs": [
    {
     "data": {
      "text/plain": [
       "count    3.500000e+03\n",
       "mean     1.368293e+04\n",
       "std      1.883548e+05\n",
       "min      0.000000e+00\n",
       "25%      1.700000e+01\n",
       "50%      1.582450e+02\n",
       "75%      1.352500e+03\n",
       "max      1.000000e+07\n",
       "Name: standard_value, dtype: float64"
      ]
     },
     "execution_count": 35,
     "metadata": {},
     "output_type": "execute_result"
    }
   ],
   "source": [
    "#check whether the max value will result in < 1.0\n",
    "df_combined.standard_value.describe()"
   ]
  },
  {
   "cell_type": "code",
   "execution_count": 36,
   "id": "4f6bf3b5",
   "metadata": {
    "scrolled": true
   },
   "outputs": [
    {
     "name": "stderr",
     "output_type": "stream",
     "text": [
      "/var/folders/zp/55hhmnvj5ys7j9j8dtzqm6wh0000gn/T/ipykernel_20952/2371749218.py:12: RuntimeWarning: divide by zero encountered in log10\n",
      "  pIC50.append(-np.log10(molar))\n"
     ]
    },
    {
     "data": {
      "text/html": [
       "<div>\n",
       "<style scoped>\n",
       "    .dataframe tbody tr th:only-of-type {\n",
       "        vertical-align: middle;\n",
       "    }\n",
       "\n",
       "    .dataframe tbody tr th {\n",
       "        vertical-align: top;\n",
       "    }\n",
       "\n",
       "    .dataframe thead th {\n",
       "        text-align: right;\n",
       "    }\n",
       "</style>\n",
       "<table border=\"1\" class=\"dataframe\">\n",
       "  <thead>\n",
       "    <tr style=\"text-align: right;\">\n",
       "      <th></th>\n",
       "      <th>molecule_chembl_id</th>\n",
       "      <th>canonical_smiles</th>\n",
       "      <th>compound_classification</th>\n",
       "      <th>MW</th>\n",
       "      <th>LogP</th>\n",
       "      <th>NumHDonors</th>\n",
       "      <th>NumHAcceptors</th>\n",
       "      <th>pIC50</th>\n",
       "    </tr>\n",
       "  </thead>\n",
       "  <tbody>\n",
       "    <tr>\n",
       "      <th>0</th>\n",
       "      <td>CHEMBL322923</td>\n",
       "      <td>COC(=O)C1=C(c2ccc(Cl)c(Cl)c2)CC2CCC1C2</td>\n",
       "      <td>intermediate</td>\n",
       "      <td>311.208</td>\n",
       "      <td>4.74000</td>\n",
       "      <td>0.0</td>\n",
       "      <td>2.0</td>\n",
       "      <td>5.287350</td>\n",
       "    </tr>\n",
       "    <tr>\n",
       "      <th>1</th>\n",
       "      <td>CHEMBL435341</td>\n",
       "      <td>C/C=C\\c1ccc([C@H]2CC3CCC([C@H]2C(=O)OC)N3C)cc1</td>\n",
       "      <td>active</td>\n",
       "      <td>299.414</td>\n",
       "      <td>3.45900</td>\n",
       "      <td>0.0</td>\n",
       "      <td>3.0</td>\n",
       "      <td>8.939302</td>\n",
       "    </tr>\n",
       "    <tr>\n",
       "      <th>2</th>\n",
       "      <td>CHEMBL311347</td>\n",
       "      <td>COC(=O)[C@@H]1C2CC[C@H](C[C@@H]1c1ccc(I)cc1)N2C</td>\n",
       "      <td>active</td>\n",
       "      <td>385.245</td>\n",
       "      <td>3.03050</td>\n",
       "      <td>0.0</td>\n",
       "      <td>3.0</td>\n",
       "      <td>8.376751</td>\n",
       "    </tr>\n",
       "    <tr>\n",
       "      <th>3</th>\n",
       "      <td>CHEMBL100941</td>\n",
       "      <td>COC(=O)C1C2CCC(C2)CC1c1ccc(Cl)c(Cl)c1</td>\n",
       "      <td>active</td>\n",
       "      <td>313.224</td>\n",
       "      <td>4.68620</td>\n",
       "      <td>0.0</td>\n",
       "      <td>2.0</td>\n",
       "      <td>7.476254</td>\n",
       "    </tr>\n",
       "    <tr>\n",
       "      <th>4</th>\n",
       "      <td>CHEMBL87031</td>\n",
       "      <td>COC(=O)C1C(c2ccc(Cl)c(Cl)c2)CC2CCC1N2C</td>\n",
       "      <td>active</td>\n",
       "      <td>328.239</td>\n",
       "      <td>3.73270</td>\n",
       "      <td>0.0</td>\n",
       "      <td>3.0</td>\n",
       "      <td>7.559091</td>\n",
       "    </tr>\n",
       "    <tr>\n",
       "      <th>...</th>\n",
       "      <td>...</td>\n",
       "      <td>...</td>\n",
       "      <td>...</td>\n",
       "      <td>...</td>\n",
       "      <td>...</td>\n",
       "      <td>...</td>\n",
       "      <td>...</td>\n",
       "      <td>...</td>\n",
       "    </tr>\n",
       "    <tr>\n",
       "      <th>3495</th>\n",
       "      <td>CHEMBL4847426</td>\n",
       "      <td>Clc1ccc(OC2CC3CCC(C2)N3)cc1</td>\n",
       "      <td>active</td>\n",
       "      <td>237.730</td>\n",
       "      <td>3.00180</td>\n",
       "      <td>1.0</td>\n",
       "      <td>2.0</td>\n",
       "      <td>7.366532</td>\n",
       "    </tr>\n",
       "    <tr>\n",
       "      <th>3496</th>\n",
       "      <td>CHEMBL4851558</td>\n",
       "      <td>Clc1cccc(OC2CC3CCC(C2)N3)c1</td>\n",
       "      <td>active</td>\n",
       "      <td>237.730</td>\n",
       "      <td>3.00180</td>\n",
       "      <td>1.0</td>\n",
       "      <td>2.0</td>\n",
       "      <td>6.869666</td>\n",
       "    </tr>\n",
       "    <tr>\n",
       "      <th>3497</th>\n",
       "      <td>CHEMBL4873377</td>\n",
       "      <td>Clc1ccccc1OC1CC2CCC(C1)N2</td>\n",
       "      <td>active</td>\n",
       "      <td>237.730</td>\n",
       "      <td>3.00180</td>\n",
       "      <td>1.0</td>\n",
       "      <td>2.0</td>\n",
       "      <td>6.055024</td>\n",
       "    </tr>\n",
       "    <tr>\n",
       "      <th>3498</th>\n",
       "      <td>CHEMBL3609637</td>\n",
       "      <td>COc1cc(-c2cn(C3CCc4c(F)cccc4N(CC(F)(F)F)C3=O)n...</td>\n",
       "      <td>active</td>\n",
       "      <td>514.483</td>\n",
       "      <td>4.66972</td>\n",
       "      <td>0.0</td>\n",
       "      <td>7.0</td>\n",
       "      <td>7.886057</td>\n",
       "    </tr>\n",
       "    <tr>\n",
       "      <th>3499</th>\n",
       "      <td>CHEMBL1800685</td>\n",
       "      <td>O=C(O)c1cc(-c2ccc(C3CCNCC3)cc2)c2ccc(-c3ccc(C(...</td>\n",
       "      <td>active</td>\n",
       "      <td>475.510</td>\n",
       "      <td>7.35780</td>\n",
       "      <td>2.0</td>\n",
       "      <td>2.0</td>\n",
       "      <td>8.023650</td>\n",
       "    </tr>\n",
       "  </tbody>\n",
       "</table>\n",
       "<p>3500 rows × 8 columns</p>\n",
       "</div>"
      ],
      "text/plain": [
       "     molecule_chembl_id                                   canonical_smiles  \\\n",
       "0          CHEMBL322923             COC(=O)C1=C(c2ccc(Cl)c(Cl)c2)CC2CCC1C2   \n",
       "1          CHEMBL435341     C/C=C\\c1ccc([C@H]2CC3CCC([C@H]2C(=O)OC)N3C)cc1   \n",
       "2          CHEMBL311347    COC(=O)[C@@H]1C2CC[C@H](C[C@@H]1c1ccc(I)cc1)N2C   \n",
       "3          CHEMBL100941              COC(=O)C1C2CCC(C2)CC1c1ccc(Cl)c(Cl)c1   \n",
       "4           CHEMBL87031             COC(=O)C1C(c2ccc(Cl)c(Cl)c2)CC2CCC1N2C   \n",
       "...                 ...                                                ...   \n",
       "3495      CHEMBL4847426                        Clc1ccc(OC2CC3CCC(C2)N3)cc1   \n",
       "3496      CHEMBL4851558                        Clc1cccc(OC2CC3CCC(C2)N3)c1   \n",
       "3497      CHEMBL4873377                          Clc1ccccc1OC1CC2CCC(C1)N2   \n",
       "3498      CHEMBL3609637  COc1cc(-c2cn(C3CCc4c(F)cccc4N(CC(F)(F)F)C3=O)n...   \n",
       "3499      CHEMBL1800685  O=C(O)c1cc(-c2ccc(C3CCNCC3)cc2)c2ccc(-c3ccc(C(...   \n",
       "\n",
       "     compound_classification       MW     LogP  NumHDonors  NumHAcceptors  \\\n",
       "0               intermediate  311.208  4.74000         0.0            2.0   \n",
       "1                     active  299.414  3.45900         0.0            3.0   \n",
       "2                     active  385.245  3.03050         0.0            3.0   \n",
       "3                     active  313.224  4.68620         0.0            2.0   \n",
       "4                     active  328.239  3.73270         0.0            3.0   \n",
       "...                      ...      ...      ...         ...            ...   \n",
       "3495                  active  237.730  3.00180         1.0            2.0   \n",
       "3496                  active  237.730  3.00180         1.0            2.0   \n",
       "3497                  active  237.730  3.00180         1.0            2.0   \n",
       "3498                  active  514.483  4.66972         0.0            7.0   \n",
       "3499                  active  475.510  7.35780         2.0            2.0   \n",
       "\n",
       "         pIC50  \n",
       "0     5.287350  \n",
       "1     8.939302  \n",
       "2     8.376751  \n",
       "3     7.476254  \n",
       "4     7.559091  \n",
       "...        ...  \n",
       "3495  7.366532  \n",
       "3496  6.869666  \n",
       "3497  6.055024  \n",
       "3498  7.886057  \n",
       "3499  8.023650  \n",
       "\n",
       "[3500 rows x 8 columns]"
      ]
     },
     "execution_count": 36,
     "metadata": {},
     "output_type": "execute_result"
    }
   ],
   "source": [
    "df_final = pIC50(df_combined)\n",
    "df_final"
   ]
  },
  {
   "cell_type": "code",
   "execution_count": 37,
   "id": "e5f33a8a",
   "metadata": {},
   "outputs": [
    {
     "data": {
      "text/plain": [
       "count    3500.000000\n",
       "mean             inf\n",
       "std              NaN\n",
       "min         2.000000\n",
       "25%         5.868865\n",
       "50%         6.800671\n",
       "75%         7.769551\n",
       "max              inf\n",
       "Name: pIC50, dtype: float64"
      ]
     },
     "execution_count": 37,
     "metadata": {},
     "output_type": "execute_result"
    }
   ],
   "source": [
    "df_final.pIC50.describe()"
   ]
  },
  {
   "cell_type": "code",
   "execution_count": 65,
   "id": "ac5c0c92",
   "metadata": {},
   "outputs": [
    {
     "data": {
      "text/plain": [
       "count    3499.000000\n",
       "mean        6.759904\n",
       "std         1.243811\n",
       "min         2.000000\n",
       "25%         5.868064\n",
       "50%         6.799998\n",
       "75%         7.769551\n",
       "max        11.698970\n",
       "Name: pIC50, dtype: float64"
      ]
     },
     "execution_count": 65,
     "metadata": {},
     "output_type": "execute_result"
    }
   ],
   "source": [
    "#remove infinity values\n",
    "df_final.replace([np.inf, -np.inf], np.nan, inplace=True)\n",
    "df_final.pIC50.describe()"
   ]
  },
  {
   "cell_type": "code",
   "execution_count": 80,
   "id": "d5a44a0a",
   "metadata": {},
   "outputs": [
    {
     "data": {
      "text/plain": [
       "(3499, 8)"
      ]
     },
     "execution_count": 80,
     "metadata": {},
     "output_type": "execute_result"
    }
   ],
   "source": [
    "#remove NaN values\n",
    "df_final.dropna(inplace=True)\n",
    "df_final.reset_index(drop=True, inplace=True)\n",
    "df_final.shape"
   ]
  },
  {
   "cell_type": "code",
   "execution_count": 81,
   "id": "b021019f",
   "metadata": {},
   "outputs": [
    {
     "data": {
      "image/png": "[encoded data removed]",
      "text/plain": [
       "<Figure size 432x288 with 1 Axes>"
      ]
     },
     "metadata": {},
     "output_type": "display_data"
    }
   ],
   "source": [
    "#check distribution\n",
    "x = []\n",
    "y = []\n",
    "i = 0\n",
    "for j in df_final.pIC50:\n",
    "    x.append(i)\n",
    "    y.append(j)\n",
    "    i += 1\n",
    "    \n",
    "plt.scatter(x, y)\n",
    "plt.title('Normalised Standard Values')\n",
    "plt.xlabel('Index')\n",
    "plt.ylabel('pIC50')\n",
    "plt.show()"
   ]
  },
  {
   "cell_type": "markdown",
   "id": "de400d7d",
   "metadata": {},
   "source": [
    "# prepare 2 bioactivity classes"
   ]
  },
  {
   "cell_type": "code",
   "execution_count": 82,
   "id": "0265307d",
   "metadata": {},
   "outputs": [
    {
     "data": {
      "text/html": [
       "<div>\n",
       "<style scoped>\n",
       "    .dataframe tbody tr th:only-of-type {\n",
       "        vertical-align: middle;\n",
       "    }\n",
       "\n",
       "    .dataframe tbody tr th {\n",
       "        vertical-align: top;\n",
       "    }\n",
       "\n",
       "    .dataframe thead th {\n",
       "        text-align: right;\n",
       "    }\n",
       "</style>\n",
       "<table border=\"1\" class=\"dataframe\">\n",
       "  <thead>\n",
       "    <tr style=\"text-align: right;\">\n",
       "      <th></th>\n",
       "      <th>molecule_chembl_id</th>\n",
       "      <th>canonical_smiles</th>\n",
       "      <th>compound_classification</th>\n",
       "      <th>MW</th>\n",
       "      <th>LogP</th>\n",
       "      <th>NumHDonors</th>\n",
       "      <th>NumHAcceptors</th>\n",
       "      <th>pIC50</th>\n",
       "    </tr>\n",
       "  </thead>\n",
       "  <tbody>\n",
       "    <tr>\n",
       "      <th>0</th>\n",
       "      <td>CHEMBL435341</td>\n",
       "      <td>C/C=C\\c1ccc([C@H]2CC3CCC([C@H]2C(=O)OC)N3C)cc1</td>\n",
       "      <td>active</td>\n",
       "      <td>299.414</td>\n",
       "      <td>3.45900</td>\n",
       "      <td>0.0</td>\n",
       "      <td>3.0</td>\n",
       "      <td>8.939302</td>\n",
       "    </tr>\n",
       "    <tr>\n",
       "      <th>1</th>\n",
       "      <td>CHEMBL311347</td>\n",
       "      <td>COC(=O)[C@@H]1C2CC[C@H](C[C@@H]1c1ccc(I)cc1)N2C</td>\n",
       "      <td>active</td>\n",
       "      <td>385.245</td>\n",
       "      <td>3.03050</td>\n",
       "      <td>0.0</td>\n",
       "      <td>3.0</td>\n",
       "      <td>8.376751</td>\n",
       "    </tr>\n",
       "    <tr>\n",
       "      <th>2</th>\n",
       "      <td>CHEMBL100941</td>\n",
       "      <td>COC(=O)C1C2CCC(C2)CC1c1ccc(Cl)c(Cl)c1</td>\n",
       "      <td>active</td>\n",
       "      <td>313.224</td>\n",
       "      <td>4.68620</td>\n",
       "      <td>0.0</td>\n",
       "      <td>2.0</td>\n",
       "      <td>7.476254</td>\n",
       "    </tr>\n",
       "    <tr>\n",
       "      <th>3</th>\n",
       "      <td>CHEMBL87031</td>\n",
       "      <td>COC(=O)C1C(c2ccc(Cl)c(Cl)c2)CC2CCC1N2C</td>\n",
       "      <td>active</td>\n",
       "      <td>328.239</td>\n",
       "      <td>3.73270</td>\n",
       "      <td>0.0</td>\n",
       "      <td>3.0</td>\n",
       "      <td>7.559091</td>\n",
       "    </tr>\n",
       "    <tr>\n",
       "      <th>4</th>\n",
       "      <td>CHEMBL316342</td>\n",
       "      <td>COC(=O)C1C2CCC(CC1c1ccc(Cl)c(Cl)c1)O2</td>\n",
       "      <td>active</td>\n",
       "      <td>315.196</td>\n",
       "      <td>3.81750</td>\n",
       "      <td>0.0</td>\n",
       "      <td>3.0</td>\n",
       "      <td>8.187087</td>\n",
       "    </tr>\n",
       "    <tr>\n",
       "      <th>...</th>\n",
       "      <td>...</td>\n",
       "      <td>...</td>\n",
       "      <td>...</td>\n",
       "      <td>...</td>\n",
       "      <td>...</td>\n",
       "      <td>...</td>\n",
       "      <td>...</td>\n",
       "      <td>...</td>\n",
       "    </tr>\n",
       "    <tr>\n",
       "      <th>2829</th>\n",
       "      <td>CHEMBL4847426</td>\n",
       "      <td>Clc1ccc(OC2CC3CCC(C2)N3)cc1</td>\n",
       "      <td>active</td>\n",
       "      <td>237.730</td>\n",
       "      <td>3.00180</td>\n",
       "      <td>1.0</td>\n",
       "      <td>2.0</td>\n",
       "      <td>7.366532</td>\n",
       "    </tr>\n",
       "    <tr>\n",
       "      <th>2830</th>\n",
       "      <td>CHEMBL4851558</td>\n",
       "      <td>Clc1cccc(OC2CC3CCC(C2)N3)c1</td>\n",
       "      <td>active</td>\n",
       "      <td>237.730</td>\n",
       "      <td>3.00180</td>\n",
       "      <td>1.0</td>\n",
       "      <td>2.0</td>\n",
       "      <td>6.869666</td>\n",
       "    </tr>\n",
       "    <tr>\n",
       "      <th>2831</th>\n",
       "      <td>CHEMBL4873377</td>\n",
       "      <td>Clc1ccccc1OC1CC2CCC(C1)N2</td>\n",
       "      <td>active</td>\n",
       "      <td>237.730</td>\n",
       "      <td>3.00180</td>\n",
       "      <td>1.0</td>\n",
       "      <td>2.0</td>\n",
       "      <td>6.055024</td>\n",
       "    </tr>\n",
       "    <tr>\n",
       "      <th>2832</th>\n",
       "      <td>CHEMBL3609637</td>\n",
       "      <td>COc1cc(-c2cn(C3CCc4c(F)cccc4N(CC(F)(F)F)C3=O)n...</td>\n",
       "      <td>active</td>\n",
       "      <td>514.483</td>\n",
       "      <td>4.66972</td>\n",
       "      <td>0.0</td>\n",
       "      <td>7.0</td>\n",
       "      <td>7.886057</td>\n",
       "    </tr>\n",
       "    <tr>\n",
       "      <th>2833</th>\n",
       "      <td>CHEMBL1800685</td>\n",
       "      <td>O=C(O)c1cc(-c2ccc(C3CCNCC3)cc2)c2ccc(-c3ccc(C(...</td>\n",
       "      <td>active</td>\n",
       "      <td>475.510</td>\n",
       "      <td>7.35780</td>\n",
       "      <td>2.0</td>\n",
       "      <td>2.0</td>\n",
       "      <td>8.023650</td>\n",
       "    </tr>\n",
       "  </tbody>\n",
       "</table>\n",
       "<p>2834 rows × 8 columns</p>\n",
       "</div>"
      ],
      "text/plain": [
       "     molecule_chembl_id                                   canonical_smiles  \\\n",
       "0          CHEMBL435341     C/C=C\\c1ccc([C@H]2CC3CCC([C@H]2C(=O)OC)N3C)cc1   \n",
       "1          CHEMBL311347    COC(=O)[C@@H]1C2CC[C@H](C[C@@H]1c1ccc(I)cc1)N2C   \n",
       "2          CHEMBL100941              COC(=O)C1C2CCC(C2)CC1c1ccc(Cl)c(Cl)c1   \n",
       "3           CHEMBL87031             COC(=O)C1C(c2ccc(Cl)c(Cl)c2)CC2CCC1N2C   \n",
       "4          CHEMBL316342              COC(=O)C1C2CCC(CC1c1ccc(Cl)c(Cl)c1)O2   \n",
       "...                 ...                                                ...   \n",
       "2829      CHEMBL4847426                        Clc1ccc(OC2CC3CCC(C2)N3)cc1   \n",
       "2830      CHEMBL4851558                        Clc1cccc(OC2CC3CCC(C2)N3)c1   \n",
       "2831      CHEMBL4873377                          Clc1ccccc1OC1CC2CCC(C1)N2   \n",
       "2832      CHEMBL3609637  COc1cc(-c2cn(C3CCc4c(F)cccc4N(CC(F)(F)F)C3=O)n...   \n",
       "2833      CHEMBL1800685  O=C(O)c1cc(-c2ccc(C3CCNCC3)cc2)c2ccc(-c3ccc(C(...   \n",
       "\n",
       "     compound_classification       MW     LogP  NumHDonors  NumHAcceptors  \\\n",
       "0                     active  299.414  3.45900         0.0            3.0   \n",
       "1                     active  385.245  3.03050         0.0            3.0   \n",
       "2                     active  313.224  4.68620         0.0            2.0   \n",
       "3                     active  328.239  3.73270         0.0            3.0   \n",
       "4                     active  315.196  3.81750         0.0            3.0   \n",
       "...                      ...      ...      ...         ...            ...   \n",
       "2829                  active  237.730  3.00180         1.0            2.0   \n",
       "2830                  active  237.730  3.00180         1.0            2.0   \n",
       "2831                  active  237.730  3.00180         1.0            2.0   \n",
       "2832                  active  514.483  4.66972         0.0            7.0   \n",
       "2833                  active  475.510  7.35780         2.0            2.0   \n",
       "\n",
       "         pIC50  \n",
       "0     8.939302  \n",
       "1     8.376751  \n",
       "2     7.476254  \n",
       "3     7.559091  \n",
       "4     8.187087  \n",
       "...        ...  \n",
       "2829  7.366532  \n",
       "2830  6.869666  \n",
       "2831  6.055024  \n",
       "2832  7.886057  \n",
       "2833  8.023650  \n",
       "\n",
       "[2834 rows x 8 columns]"
      ]
     },
     "execution_count": 82,
     "metadata": {},
     "output_type": "execute_result"
    }
   ],
   "source": [
    "#remove intermediate class\n",
    "df_2class = df_final[df_final.compound_classification != 'intermediate']\n",
    "df_2class.reset_index(drop=True, inplace=True)\n",
    "df_2class"
   ]
  },
  {
   "cell_type": "code",
   "execution_count": 83,
   "id": "cde791fb",
   "metadata": {},
   "outputs": [],
   "source": [
    "#save df_combined to be used later\n",
    "path = 'csv/'\n",
    "df_2class.to_csv(os.path.join(path,'combined_dataset_pIC50.csv'),index=False)"
   ]
  },
  {
   "cell_type": "markdown",
   "id": "d7ed9523",
   "metadata": {},
   "source": [
    "# EDA via Lipinski Descriptors"
   ]
  },
  {
   "cell_type": "code",
   "execution_count": 84,
   "id": "0ac848cb",
   "metadata": {},
   "outputs": [],
   "source": [
    "import seaborn as sns\n",
    "sns.set(style='white')"
   ]
  },
  {
   "cell_type": "markdown",
   "id": "7823e4ca",
   "metadata": {},
   "source": [
    "### Compare Bioactivity Class "
   ]
  },
  {
   "cell_type": "code",
   "execution_count": 85,
   "id": "215e54f5",
   "metadata": {},
   "outputs": [
    {
     "data": {
      "image/png": "[encoded data removed]",
      "text/plain": [
       "<Figure size 432x432 with 1 Axes>"
      ]
     },
     "metadata": {},
     "output_type": "display_data"
    }
   ],
   "source": [
    "plt.figure(figsize=(6,6))\n",
    "\n",
    "sns.countplot(x='compound_classification', data=df_2class, edgecolor='black')\n",
    "\n",
    "plt.xlabel('Bioactivity Class', fontweight='bold')\n",
    "plt.ylabel('Frequency', fontweight='bold')\n",
    "\n",
    "plt.savefig('figures/bioactivity_class_fig.jpg')"
   ]
  },
  {
   "cell_type": "markdown",
   "id": "84bec7d3",
   "metadata": {},
   "source": [
    "### Compare Molecular Weight (MW) versus Solubility (LogP)"
   ]
  },
  {
   "cell_type": "code",
   "execution_count": 86,
   "id": "c262a6f4",
   "metadata": {},
   "outputs": [
    {
     "data": {
      "image/png": "[encoded data removed]",
      "text/plain": [
       "<Figure size 432x432 with 1 Axes>"
      ]
     },
     "metadata": {},
     "output_type": "display_data"
    }
   ],
   "source": [
    "plt.figure(figsize=(6,6))\n",
    "\n",
    "sns.scatterplot(x='MW', y='LogP', data=df_2class, hue='compound_classification', size='pIC50', edgecolor='black', alpha=0.8)\n",
    "\n",
    "plt.xlabel('Molecular Weight (g/mol)', fontweight='bold')\n",
    "plt.ylabel('Solubility (g/L)', fontweight='bold')\n",
    "plt.legend(bbox_to_anchor=(1.05,1))\n",
    "\n",
    "plt.savefig('figures/MW_vs_LogP_fig.jpg')"
   ]
  },
  {
   "cell_type": "markdown",
   "id": "ee831878",
   "metadata": {},
   "source": [
    "### Box Plot for pIC50 Values "
   ]
  },
  {
   "cell_type": "code",
   "execution_count": 87,
   "id": "c96f5da2",
   "metadata": {},
   "outputs": [
    {
     "data": {
      "image/png": "[encoded data removed]",
      "text/plain": [
       "<Figure size 432x432 with 1 Axes>"
      ]
     },
     "metadata": {},
     "output_type": "display_data"
    }
   ],
   "source": [
    "plt.figure(figsize=(6,6))\n",
    "\n",
    "sns.boxplot(x='compound_classification', y='pIC50',data=df_2class)\n",
    "\n",
    "plt.xlabel('Bioactivity Class', fontweight='bold')\n",
    "plt.ylabel('pIC50 Value', fontweight='bold')\n",
    "\n",
    "plt.savefig('figures/pIC50_fig.jpg')"
   ]
  },
  {
   "cell_type": "markdown",
   "id": "2342863a",
   "metadata": {},
   "source": [
    "### Statistical Analysis | Mann-Whitney U Test "
   ]
  },
  {
   "cell_type": "code",
   "execution_count": 88,
   "id": "569209de",
   "metadata": {},
   "outputs": [],
   "source": [
    "def mannwhitney(descriptor, verbose=False):\n",
    "    # https://machinelearningmastery.com/nonparametric-statistical-significance-tests-in-python/\n",
    "    from numpy.random import seed\n",
    "    from numpy.random import randn\n",
    "    from scipy.stats import mannwhitneyu\n",
    "\n",
    "    # seed the random number generator\n",
    "    seed(1)\n",
    "\n",
    "    # actives and inactives\n",
    "    selection = [descriptor, 'compound_classification']\n",
    "    df = df_2class[selection]\n",
    "    active = df[df.compound_classification == 'active']\n",
    "    active = active[descriptor]\n",
    "\n",
    "    selection = [descriptor, 'compound_classification']\n",
    "    df = df_2class[selection]\n",
    "    inactive = df[df.compound_classification == 'inactive']\n",
    "    inactive = inactive[descriptor]\n",
    "\n",
    "    # compare samples\n",
    "    stat, p = mannwhitneyu(active, inactive)\n",
    "    #print('Statistics=%.3f, p=%.3f' % (stat, p))\n",
    "\n",
    "    # interpret\n",
    "    alpha = 0.05\n",
    "    if p > alpha:\n",
    "        interpretation = 'Same distribution (fail to reject H0)'\n",
    "    else:\n",
    "        interpretation = 'Different distribution (reject H0)'\n",
    "\n",
    "    results = pd.DataFrame({'Descriptor':descriptor,\n",
    "                          'Statistics':stat,\n",
    "                          'p':p,\n",
    "                          'alpha':alpha,\n",
    "                          'Interpretation':interpretation}, index=[0])\n",
    "    filename = 'mannwhitneyu_' + descriptor + '.csv'\n",
    "    results.to_csv(filename)\n",
    "\n",
    "    return results"
   ]
  },
  {
   "cell_type": "code",
   "execution_count": 89,
   "id": "aa6be8fb",
   "metadata": {},
   "outputs": [
    {
     "data": {
      "text/html": [
       "<div>\n",
       "<style scoped>\n",
       "    .dataframe tbody tr th:only-of-type {\n",
       "        vertical-align: middle;\n",
       "    }\n",
       "\n",
       "    .dataframe tbody tr th {\n",
       "        vertical-align: top;\n",
       "    }\n",
       "\n",
       "    .dataframe thead th {\n",
       "        text-align: right;\n",
       "    }\n",
       "</style>\n",
       "<table border=\"1\" class=\"dataframe\">\n",
       "  <thead>\n",
       "    <tr style=\"text-align: right;\">\n",
       "      <th></th>\n",
       "      <th>Descriptor</th>\n",
       "      <th>Statistics</th>\n",
       "      <th>p</th>\n",
       "      <th>alpha</th>\n",
       "      <th>Interpretation</th>\n",
       "    </tr>\n",
       "  </thead>\n",
       "  <tbody>\n",
       "    <tr>\n",
       "      <th>0</th>\n",
       "      <td>pIC50</td>\n",
       "      <td>789073.0</td>\n",
       "      <td>1.206404e-183</td>\n",
       "      <td>0.05</td>\n",
       "      <td>Different distribution (reject H0)</td>\n",
       "    </tr>\n",
       "  </tbody>\n",
       "</table>\n",
       "</div>"
      ],
      "text/plain": [
       "  Descriptor  Statistics              p  alpha  \\\n",
       "0      pIC50    789073.0  1.206404e-183   0.05   \n",
       "\n",
       "                       Interpretation  \n",
       "0  Different distribution (reject H0)  "
      ]
     },
     "execution_count": 89,
     "metadata": {},
     "output_type": "execute_result"
    }
   ],
   "source": [
    "mannwhitney('pIC50')"
   ]
  },
  {
   "cell_type": "markdown",
   "id": "685a2db3",
   "metadata": {},
   "source": [
    "### Molecular Weight"
   ]
  },
  {
   "cell_type": "code",
   "execution_count": 90,
   "id": "61bca4f0",
   "metadata": {},
   "outputs": [
    {
     "data": {
      "image/png": "[encoded data removed]",
      "text/plain": [
       "<Figure size 432x432 with 1 Axes>"
      ]
     },
     "metadata": {},
     "output_type": "display_data"
    }
   ],
   "source": [
    "plt.figure(figsize=(6,6))\n",
    "\n",
    "sns.boxplot(x = 'compound_classification', y = 'MW', data = df_2class)\n",
    "\n",
    "plt.xlabel('Bioactivity class', fontweight='bold')\n",
    "plt.ylabel('Molecular Weight(g/mol)', fontweight='bold')\n",
    "\n",
    "plt.savefig('figures/plot_MW.jpg')"
   ]
  },
  {
   "cell_type": "code",
   "execution_count": 91,
   "id": "fa4881a4",
   "metadata": {},
   "outputs": [
    {
     "data": {
      "text/html": [
       "<div>\n",
       "<style scoped>\n",
       "    .dataframe tbody tr th:only-of-type {\n",
       "        vertical-align: middle;\n",
       "    }\n",
       "\n",
       "    .dataframe tbody tr th {\n",
       "        vertical-align: top;\n",
       "    }\n",
       "\n",
       "    .dataframe thead th {\n",
       "        text-align: right;\n",
       "    }\n",
       "</style>\n",
       "<table border=\"1\" class=\"dataframe\">\n",
       "  <thead>\n",
       "    <tr style=\"text-align: right;\">\n",
       "      <th></th>\n",
       "      <th>Descriptor</th>\n",
       "      <th>Statistics</th>\n",
       "      <th>p</th>\n",
       "      <th>alpha</th>\n",
       "      <th>Interpretation</th>\n",
       "    </tr>\n",
       "  </thead>\n",
       "  <tbody>\n",
       "    <tr>\n",
       "      <th>0</th>\n",
       "      <td>MW</td>\n",
       "      <td>384254.5</td>\n",
       "      <td>0.451431</td>\n",
       "      <td>0.05</td>\n",
       "      <td>Same distribution (fail to reject H0)</td>\n",
       "    </tr>\n",
       "  </tbody>\n",
       "</table>\n",
       "</div>"
      ],
      "text/plain": [
       "  Descriptor  Statistics         p  alpha  \\\n",
       "0         MW    384254.5  0.451431   0.05   \n",
       "\n",
       "                          Interpretation  \n",
       "0  Same distribution (fail to reject H0)  "
      ]
     },
     "execution_count": 91,
     "metadata": {},
     "output_type": "execute_result"
    }
   ],
   "source": [
    "mannwhitney('MW')"
   ]
  },
  {
   "cell_type": "markdown",
   "id": "9f356508",
   "metadata": {},
   "source": [
    "### Solubility"
   ]
  },
  {
   "cell_type": "code",
   "execution_count": 92,
   "id": "89977f69",
   "metadata": {},
   "outputs": [
    {
     "data": {
      "image/png": "[encoded data removed]",
      "text/plain": [
       "<Figure size 432x432 with 1 Axes>"
      ]
     },
     "metadata": {},
     "output_type": "display_data"
    }
   ],
   "source": [
    "plt.figure(figsize=(6,6))\n",
    "\n",
    "sns.boxplot(x = 'compound_classification', y = 'LogP', data = df_2class)\n",
    "\n",
    "plt.xlabel('Bioactivity class', fontweight='bold')\n",
    "plt.ylabel('Solubility(g/L)', fontweight='bold')\n",
    "\n",
    "plt.savefig('figures/plot_LogP.jpg')"
   ]
  },
  {
   "cell_type": "code",
   "execution_count": 93,
   "id": "273a6284",
   "metadata": {},
   "outputs": [
    {
     "data": {
      "text/html": [
       "<div>\n",
       "<style scoped>\n",
       "    .dataframe tbody tr th:only-of-type {\n",
       "        vertical-align: middle;\n",
       "    }\n",
       "\n",
       "    .dataframe tbody tr th {\n",
       "        vertical-align: top;\n",
       "    }\n",
       "\n",
       "    .dataframe thead th {\n",
       "        text-align: right;\n",
       "    }\n",
       "</style>\n",
       "<table border=\"1\" class=\"dataframe\">\n",
       "  <thead>\n",
       "    <tr style=\"text-align: right;\">\n",
       "      <th></th>\n",
       "      <th>Descriptor</th>\n",
       "      <th>Statistics</th>\n",
       "      <th>p</th>\n",
       "      <th>alpha</th>\n",
       "      <th>Interpretation</th>\n",
       "    </tr>\n",
       "  </thead>\n",
       "  <tbody>\n",
       "    <tr>\n",
       "      <th>0</th>\n",
       "      <td>LogP</td>\n",
       "      <td>477303.5</td>\n",
       "      <td>1.344974e-09</td>\n",
       "      <td>0.05</td>\n",
       "      <td>Different distribution (reject H0)</td>\n",
       "    </tr>\n",
       "  </tbody>\n",
       "</table>\n",
       "</div>"
      ],
      "text/plain": [
       "  Descriptor  Statistics             p  alpha  \\\n",
       "0       LogP    477303.5  1.344974e-09   0.05   \n",
       "\n",
       "                       Interpretation  \n",
       "0  Different distribution (reject H0)  "
      ]
     },
     "execution_count": 93,
     "metadata": {},
     "output_type": "execute_result"
    }
   ],
   "source": [
    "mannwhitney('LogP')"
   ]
  },
  {
   "cell_type": "markdown",
   "id": "865f716d",
   "metadata": {},
   "source": [
    "### NumHDonors"
   ]
  },
  {
   "cell_type": "code",
   "execution_count": 94,
   "id": "3d0e4c4a",
   "metadata": {},
   "outputs": [
    {
     "data": {
      "image/png": "[encoded data removed]",
      "text/plain": [
       "<Figure size 432x432 with 1 Axes>"
      ]
     },
     "metadata": {},
     "output_type": "display_data"
    }
   ],
   "source": [
    "plt.figure(figsize=(6,6))\n",
    "\n",
    "sns.boxplot(x = 'compound_classification', y = 'NumHDonors', data = df_2class)\n",
    "\n",
    "plt.xlabel('Bioactivity class', fontweight='bold')\n",
    "plt.ylabel('NumHDonors', fontweight='bold')\n",
    "\n",
    "plt.savefig('figures/plot_NumHDonors.jpg')"
   ]
  },
  {
   "cell_type": "code",
   "execution_count": 95,
   "id": "3c9b20a1",
   "metadata": {},
   "outputs": [
    {
     "data": {
      "text/html": [
       "<div>\n",
       "<style scoped>\n",
       "    .dataframe tbody tr th:only-of-type {\n",
       "        vertical-align: middle;\n",
       "    }\n",
       "\n",
       "    .dataframe tbody tr th {\n",
       "        vertical-align: top;\n",
       "    }\n",
       "\n",
       "    .dataframe thead th {\n",
       "        text-align: right;\n",
       "    }\n",
       "</style>\n",
       "<table border=\"1\" class=\"dataframe\">\n",
       "  <thead>\n",
       "    <tr style=\"text-align: right;\">\n",
       "      <th></th>\n",
       "      <th>Descriptor</th>\n",
       "      <th>Statistics</th>\n",
       "      <th>p</th>\n",
       "      <th>alpha</th>\n",
       "      <th>Interpretation</th>\n",
       "    </tr>\n",
       "  </thead>\n",
       "  <tbody>\n",
       "    <tr>\n",
       "      <th>0</th>\n",
       "      <td>NumHDonors</td>\n",
       "      <td>446229.5</td>\n",
       "      <td>0.000027</td>\n",
       "      <td>0.05</td>\n",
       "      <td>Different distribution (reject H0)</td>\n",
       "    </tr>\n",
       "  </tbody>\n",
       "</table>\n",
       "</div>"
      ],
      "text/plain": [
       "   Descriptor  Statistics         p  alpha                      Interpretation\n",
       "0  NumHDonors    446229.5  0.000027   0.05  Different distribution (reject H0)"
      ]
     },
     "execution_count": 95,
     "metadata": {},
     "output_type": "execute_result"
    }
   ],
   "source": [
    "mannwhitney('NumHDonors')"
   ]
  },
  {
   "cell_type": "markdown",
   "id": "b1b1c535",
   "metadata": {},
   "source": [
    "### NumHAcceptors"
   ]
  },
  {
   "cell_type": "code",
   "execution_count": 96,
   "id": "ed76e936",
   "metadata": {},
   "outputs": [
    {
     "data": {
      "image/png": "[encoded data removed]",
      "text/plain": [
       "<Figure size 432x432 with 1 Axes>"
      ]
     },
     "metadata": {},
     "output_type": "display_data"
    }
   ],
   "source": [
    "plt.figure(figsize=(6,6))\n",
    "\n",
    "sns.boxplot(x = 'compound_classification', y = 'NumHAcceptors', data = df_2class)\n",
    "\n",
    "plt.xlabel('Bioactivity class', fontweight='bold')\n",
    "plt.ylabel('NumHAcceptors', fontweight='bold')\n",
    "\n",
    "plt.savefig('figures/plot_NumHAcceptors.jpg')"
   ]
  },
  {
   "cell_type": "code",
   "execution_count": 97,
   "id": "3a75c90b",
   "metadata": {},
   "outputs": [
    {
     "data": {
      "text/html": [
       "<div>\n",
       "<style scoped>\n",
       "    .dataframe tbody tr th:only-of-type {\n",
       "        vertical-align: middle;\n",
       "    }\n",
       "\n",
       "    .dataframe tbody tr th {\n",
       "        vertical-align: top;\n",
       "    }\n",
       "\n",
       "    .dataframe thead th {\n",
       "        text-align: right;\n",
       "    }\n",
       "</style>\n",
       "<table border=\"1\" class=\"dataframe\">\n",
       "  <thead>\n",
       "    <tr style=\"text-align: right;\">\n",
       "      <th></th>\n",
       "      <th>Descriptor</th>\n",
       "      <th>Statistics</th>\n",
       "      <th>p</th>\n",
       "      <th>alpha</th>\n",
       "      <th>Interpretation</th>\n",
       "    </tr>\n",
       "  </thead>\n",
       "  <tbody>\n",
       "    <tr>\n",
       "      <th>0</th>\n",
       "      <td>NumHAcceptors</td>\n",
       "      <td>306980.5</td>\n",
       "      <td>4.144423e-11</td>\n",
       "      <td>0.05</td>\n",
       "      <td>Different distribution (reject H0)</td>\n",
       "    </tr>\n",
       "  </tbody>\n",
       "</table>\n",
       "</div>"
      ],
      "text/plain": [
       "      Descriptor  Statistics             p  alpha  \\\n",
       "0  NumHAcceptors    306980.5  4.144423e-11   0.05   \n",
       "\n",
       "                       Interpretation  \n",
       "0  Different distribution (reject H0)  "
      ]
     },
     "execution_count": 97,
     "metadata": {},
     "output_type": "execute_result"
    }
   ],
   "source": [
    "mannwhitney('NumHAcceptors')"
   ]
  },
  {
   "cell_type": "markdown",
   "id": "3c5a98cc",
   "metadata": {},
   "source": [
    "# Interpretation"
   ]
  },
  {
   "cell_type": "code",
   "execution_count": null,
   "id": "e0330fd5",
   "metadata": {},
   "outputs": [],
   "source": []
  }
 ],
 "metadata": {
  "kernelspec": {
   "display_name": "Python 3 (ipykernel)",
   "language": "python",
   "name": "python3"
  },
  "language_info": {
   "codemirror_mode": {
    "name": "ipython",
    "version": 3
   },
   "file_extension": ".py",
   "mimetype": "text/x-python",
   "name": "python",
   "nbconvert_exporter": "python",
   "pygments_lexer": "ipython3",
   "version": "3.9.12"
  }
 },
 "nbformat": 4,
 "nbformat_minor": 5
}
